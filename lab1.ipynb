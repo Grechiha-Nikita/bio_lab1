{
 "cells": [
  {
   "cell_type": "markdown",
   "metadata": {},
   "source": [
    "#### 1. Подсчитать GC-content для гена с идентификатором X53950.1 (последовательность взять в GeneBank)."
   ]
  },
  {
   "cell_type": "code",
   "execution_count": 1,
   "metadata": {},
   "outputs": [
    {
     "name": "stdout",
     "output_type": "stream",
     "text": [
      "0.35732133933033483\n"
     ]
    }
   ],
   "source": [
    "seq = ''.join(open('1task.txt').read().split('\\n')[1:])\n",
    "res = (seq.count('G') + seq.count('C')) / len(seq)\n",
    "print(res)"
   ]
  },
  {
   "cell_type": "markdown",
   "metadata": {},
   "source": [
    "#### 2. Получить последовательность fasta из pdb файла (файл – frompdb.pdb), каждая цепь (последовательность) записывается отдельно со своим заголовком."
   ]
  },
  {
   "cell_type": "code",
   "execution_count": 10,
   "metadata": {},
   "outputs": [
    {
     "name": "stdout",
     "output_type": "stream",
     "text": [
      ">\n",
      "ADVQQKLAELERQSGGRLGVALINTADNSQILYRADERFPMCSTSKVMAAAAVLKQSETQKQLLNQPVEIKPADLVNYNPIAEKHVNGTMTLAELSAAALQYSDNTAMNKLIAQLGGPGGVTAFARAIGDETFRLDRTEPTLNTAIPGDPRDTTTPRAMAQTLRQLTLGHALGETQRAQLVTWLKGNTTGAASIRAGLPASWVVGDKTGSGGYGTTNDIAVIWPKDRAPLILVTYFTQPQPKAESRRDVLASAAKIVTDG\n",
      ">\n",
      "ADVQQKLAELERQSGGRLGVALINTADNSQILYRADERFPMCSTSKVMAAAAVLKQSETQKQLLNQPVEIKPADLVNYNPIAEKHVNGTMTLAELSAAALQYSDNTAMNKLIAQLGGPGGVTAFARAIGDETFRLDRTEPTLNTAIPGDPRDTTTPRAMAQTLRQLTLGHALGETQRAQLVTWLKGNTTGAASIRAGLPASWVVGDKTGSGGYGTTNDIAVIWPKDRAPLILVTYFTQPQPKAESRRDVLASAAKIVTDG\n"
     ]
    }
   ],
   "source": [
    "# http://cupnet.net/pdb2fasta/\n",
    "TRANSITION_MAP = {'ALA':'A','ARG':'R','ASN':'N','ASP':'D','CYS':'C','GLU':'E','GLN':'Q','GLY':'G','HIS':'H', 'ILE':'I','LEU':'L','LYS':'K','MET':'M','PHE':'F','PRO':'P','SER':'S','THR':'T','TRP':'W', 'TYR':'Y','VAL':'V'}\n",
    "seqs = [[]]\n",
    "for line in open('frompdb.pdb'):\n",
    "    toks = line.split()\n",
    "    if toks[0] == 'ATOM' and toks[2] == 'CA':\n",
    "        seqs[-1].append(toks[3])\n",
    "    if toks[0] == 'TER':\n",
    "        seqs.append([])\n",
    "seqs.pop(-1)\n",
    "for i, seq in enumerate(seqs):\n",
    "    seqs[i] = ''.join(map(lambda s: TRANSITION_MAP[s], seq))\n",
    "    print('>\\n', seqs[i], sep='')"
   ]
  },
  {
   "cell_type": "markdown",
   "metadata": {},
   "source": [
    "#### 3. Перевести ДНК последовательность в РНК, а потом в белок (файл dna.txt)"
   ]
  },
  {
   "cell_type": "code",
   "execution_count": 3,
   "metadata": {},
   "outputs": [
    {
     "name": "stdout",
     "output_type": "stream",
     "text": [
      "GMAITPRFYF*RRKVLT*ALPAQGPKKSPISYFRMTCVSLRVNHRPQFIEAWGNR*V*LA*ESKSWDHSVVTINLRWGFFGGFLQLPTRRFEVNQLRI*PRYPVISKLKHTVP*RLELLTGLFHACAIPPHSPAYPSERRQCDPPLRYSYV*RSYVFCRAGERVEHFTDGRDSGKGRIIGD*HRRRLRWRQLNRSSSALNNVLISTHSRQSTERLDYQRLSSSSNLLPAS**PPRD***LSAQN*DGADG*RTFGQPQFPTGQVLRCASL*MYKQPKWAEPGLSWFLRELETRDDSSLNIERGRRTVEKVIVPRVPTYSGYCLKLYYFRGGALKVSSSHD*TREGREVGSFNG*KTKAYCAQRNAHLAAGVLNARSPLSFRINPFPSFTSLRSLHWYMNAT*KRALKIGSG*CSKLHLVYSCITAIG*QRFNIE*QGTSGLNERPGKVRARYGRIKGPIERLLSHSLGGKCKTMVTASIHKTCPSVAQSVKCLSPLGPFPAYKRQVVSAFDATVDESASSAPHECCNVLHE*G*LRAVRCVAVLIVVDRPSRLENGTSIFGGSLTSMDCGVFTVLRLPIA*NPAGVKPSPLRDAACSETYTLHGFTAVRSESTKDTIELRSVPSTNLYPTPGACQLLGYHGACGSSRPISNFVMIKSPPREYQRR*LLSCA\n"
     ]
    }
   ],
   "source": [
    "GENCODE = {'ATA':'I', 'ATC':'I', 'ATT':'I', 'ATG':'M', 'ACA':'T', 'ACC':'T', 'ACG':'T', 'ACT':'T', 'AAC':'N', 'AAT':'N', 'AAA':'K', 'AAG':'K', 'AGC':'S', 'AGT':'S', 'AGA':'R', 'AGG':'R', 'CTA':'L', 'CTC':'L', 'CTG':'L', 'CTT':'L', 'CCA':'P', 'CCC':'P', 'CCG':'P', 'CCT':'P', 'CAC':'H', 'CAT':'H', 'CAA':'Q', 'CAG':'Q', 'CGA':'R', 'CGC':'R', 'CGG':'R', 'CGT':'R', 'GTA':'V', 'GTC':'V', 'GTG':'V', 'GTT':'V', 'GCA':'A', 'GCC':'A', 'GCG':'A', 'GCT':'A', 'GAC':'D', 'GAT':'D', 'GAA':'E', 'GAG':'E', 'GGA':'G', 'GGC':'G', 'GGG':'G', 'GGT':'G', 'TCA':'S', 'TCC':'S', 'TCG':'S', 'TCT':'S', 'TTC':'F', 'TTT':'F', 'TTA':'L', 'TTG':'L', 'TAC':'Y', 'TAT':'Y', 'TAA':'*', 'TAG':'*', 'TGC':'C', 'TGT':'C', 'TGA':'*', 'TGG':'W'}\n",
    "seq = open('dna.txt').read().strip()\n",
    "pep_seq = ''.join([GENCODE[seq[i:i+3]] for i in range(0, len(seq) - 2, 3)])\n",
    "print(pep_seq)"
   ]
  },
  {
   "cell_type": "markdown",
   "metadata": {},
   "source": [
    "#### 4. Сделать url запрос в GeneBank по идентификатору гена 7157, распарсить полученный файл, чтобы найти информацию: идентификатор в Uniprot кодируемого этим геном белка."
   ]
  },
  {
   "cell_type": "code",
   "execution_count": 10,
   "metadata": {
    "collapsed": true
   },
   "outputs": [],
   "source": [
    "from Bio import Entrez\n",
    "from Bio import SeqIO\n",
    "Entrez.email = 'n.grechiha@gmail.com'\n",
    "data = Entrez.efetch(db='gene', id='7157').read()"
   ]
  },
  {
   "cell_type": "code",
   "execution_count": 11,
   "metadata": {
    "collapsed": true
   },
   "outputs": [],
   "source": [
    "for c in ' \\n':\n",
    "    mod_data = data.lower().replace(c, '')\n",
    "pos = mod_data.find('uniprot')\n",
    "while pos != -1:\n",
    "    sub = mod_data[pos:pos + 100]\n",
    "    print(sub)\n",
    "    print('/'*100)\n",
    "    pos = mod_data.find('uniprot', pos+1)"
   ]
  },
  {
   "cell_type": "markdown",
   "metadata": {},
   "source": [
    "Идентификатор в Uniprot кодируемого этим геном белка: p04637."
   ]
  },
  {
   "cell_type": "markdown",
   "metadata": {},
   "source": [
    "#### 5. Поиск мотивов в последовательности с помощью регулярных выражений (dna.txt).\n",
    "Найти все мотивы (указать индексы начала мотивов в последовательности):"
   ]
  },
  {
   "cell_type": "code",
   "execution_count": 13,
   "metadata": {
    "collapsed": true
   },
   "outputs": [],
   "source": [
    "seq = open('dna.txt').read().strip()\n",
    "from re import finditer"
   ]
  },
  {
   "cell_type": "markdown",
   "metadata": {},
   "source": [
    "a)    GCNGC, где N означает любой нуклеотид – сайт, который находит BisI restriction enzyme."
   ]
  },
  {
   "cell_type": "code",
   "execution_count": 14,
   "metadata": {},
   "outputs": [
    {
     "name": "stdout",
     "output_type": "stream",
     "text": [
      "(296, 301) GCCGC\n",
      "(580, 585) GCAGC\n",
      "(1101, 1106) GCGGC\n",
      "(1562, 1567) GCCGC\n",
      "(1721, 1726) GCTGC\n",
      "(1779, 1784) GCCGC\n"
     ]
    }
   ],
   "source": [
    "pattern = r'GCNGC'.replace('N', '[ATGC]')\n",
    "for x in finditer(pattern, seq):\n",
    "    print(x.span(), x[0])"
   ]
  },
  {
   "cell_type": "markdown",
   "metadata": {},
   "source": [
    "b)    Определить эукариотическую мРНК:\n",
    "\n",
    "ATG – стартовый кодон.\n",
    "\n",
    "За стартовым кодоном следует последовательность из нуклеотидов (A, T, G или C) длиной от 30 до 1000\n",
    "\n",
    "Затем следует полиА-хвост (последовательность, состоящая только из А нуклеотидов) длиной от 5 до 10"
   ]
  },
  {
   "cell_type": "code",
   "execution_count": 15,
   "metadata": {},
   "outputs": [
    {
     "name": "stdout",
     "output_type": "stream",
     "text": [
      "(102, 1066) ATGACATGCGTCTCCTTGCGGGTAAATCACCGACCGCAATTCATAGAAGCCTGGGGGAACAGATAGGTCTAATTAGCTTAAGAGAGTAAATCCTGGGATCATTCAGTAGTAACCATAAACTTACGCTGGGGCTTCTTCGGCGGATTTTTACAGTTACCAACCAGGAGATTTGAAGTAAATCAGTTGAGGATTTAGCCGCGCTATCCGGTAATCTCCAAATTAAAACATACCGTTCCATGAAGGCTAGAATTACTTACCGGCCTTTTCCATGCCTGCGCTATACCCCCCCACTCTCCCGCTTATCCGTCCGAGCGGAGGCAGTGCGATCCTCCGTTAAGATATTCTTACGTGTGACGTAGCTATGTATTTTGCAGAGCTGGCGAACGCGTTGAACACTTCACAGATGGTAGGGATTCGGGTAAAGGGCGTATAATTGGGGACTAACATAGGCGTAGACTACGATGGCGCCAACTCAATCGCAGCTCGAGCGCCCTGAATAACGTACTCATCTCAACTCATTCTCGGCAATCTACCGAGCGACTCGATTATCAACGGCTGTCTAGCAGTTCTAATCTTTTGCCAGCATCGTAATAGCCTCCAAGAGATTGATGATAGCTATCGGCACAGAACTGAGACGGCGCCGATGGATAGCGGACTTTCGGTCAACCACAATTCCCCACGGGACAGGTCCTGCGGTGCGCATCACTCTGAATGTACAAGCAACCCAAGTGGGCCGAGCCTGGACTCAGCTGGTTCCTGCGTGAGCTCGAGACTCGGGATGACAGCTCTTTAAACATAGAGCGGGGGCGTCGAACGGTCGAGAAAGTCATAGTACCTCGGGTACCAACTTACTCAGGTTATTGCTTGAAGCTGTACTATTTTAGGGGGGGAGCGCTGAAGGTCTCTTCTTCTCATGACTGAACTCGCGAGGGTCGTGAAGTCGGTTCCTTCAATGGTTAAAAAA\n"
     ]
    }
   ],
   "source": [
    "pattern = r'ATG[ATGC]{30,1000}A{5,10}'\n",
    "for x in finditer(pattern, seq):\n",
    "    print(x.span(), x[0])"
   ]
  }
 ],
 "metadata": {
  "kernelspec": {
   "display_name": "Python 3",
   "language": "python",
   "name": "python3"
  },
  "language_info": {
   "codemirror_mode": {
    "name": "ipython",
    "version": 3
   },
   "file_extension": ".py",
   "mimetype": "text/x-python",
   "name": "python",
   "nbconvert_exporter": "python",
   "pygments_lexer": "ipython3",
   "version": "3.6.8"
  }
 },
 "nbformat": 4,
 "nbformat_minor": 2
}
